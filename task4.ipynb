{
 "cells": [
  {
   "cell_type": "code",
   "execution_count": 6,
   "metadata": {},
   "outputs": [
    {
     "data": {
      "text/plain": [
       "[5, 9, 8, 9]"
      ]
     },
     "execution_count": 6,
     "metadata": {},
     "output_type": "execute_result"
    }
   ],
   "source": [
    "list1 = ['mark','wood','human']\n",
    "list2 = ['marker','Hello','Evaluator','Creator']\n",
    "list3 = ['Bishal','Dinesh','Surindar','go']\n",
    "list4 = ['terminal','selection','edit','Help']\n",
    "\n",
    "\n",
    "def max_lenth_List(List1,List2,List3,List4):\n",
    "    mainlist=[]\n",
    "    mainlist.append(len(max(List1, key=len)))\n",
    "    mainlist.append(len(max(List2, key=len)))\n",
    "    mainlist.append(len(max(List3, key=len)))\n",
    "    mainlist.append(len(max(List4, key=len)))\n",
    "    \n",
    "\n",
    "    return mainlist\n",
    "\n",
    "max_lenth_List(list1,list2,list3,list4)\n",
    "\n",
    "\n",
    "\n"
   ]
  },
  {
   "cell_type": "code",
   "execution_count": 8,
   "metadata": {},
   "outputs": [
    {
     "name": "stdout",
     "output_type": "stream",
     "text": [
      "[0.16129032258064516, 0.2903225806451613, 0.25806451612903225, 0.2903225806451613]\n"
     ]
    }
   ],
   "source": [
    "max_list = max_lenth_List(list1,list2,list3,list4)\n",
    "\n",
    "\n",
    "def normalise(list):\n",
    "    sum_of_list = sum(list)\n",
    "    normalized_lst = [val / sum_of_list for val in list]\n",
    "    print(normalized_lst)\n",
    "\n",
    "normalise(max_list)"
   ]
  },
  {
   "cell_type": "code",
   "execution_count": null,
   "metadata": {},
   "outputs": [],
   "source": []
  }
 ],
 "metadata": {
  "kernelspec": {
   "display_name": "Python 3",
   "language": "python",
   "name": "python3"
  },
  "language_info": {
   "codemirror_mode": {
    "name": "ipython",
    "version": 3
   },
   "file_extension": ".py",
   "mimetype": "text/x-python",
   "name": "python",
   "nbconvert_exporter": "python",
   "pygments_lexer": "ipython3",
   "version": "3.11.0"
  },
  "orig_nbformat": 4
 },
 "nbformat": 4,
 "nbformat_minor": 2
}
