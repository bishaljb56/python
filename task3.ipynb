{
 "cells": [
  {
   "cell_type": "code",
   "execution_count": 2,
   "metadata": {},
   "outputs": [
    {
     "name": "stdout",
     "output_type": "stream",
     "text": [
      "bishdas\n"
     ]
    }
   ],
   "source": [
    "def concatenation_no_space(str1,str2):\n",
    "    print(str1+str2)\n",
    "\n",
    "concatenation_no_space('bish','das')"
   ]
  },
  {
   "cell_type": "code",
   "execution_count": 3,
   "metadata": {},
   "outputs": [
    {
     "name": "stdout",
     "output_type": "stream",
     "text": [
      "bish das\n"
     ]
    }
   ],
   "source": [
    "def concatenation_with_space(str1,str2):\n",
    "    print(str1+\" \"+str2)\n",
    "\n",
    "concatenation_with_space('bish','das')"
   ]
  },
  {
   "cell_type": "code",
   "execution_count": 4,
   "metadata": {},
   "outputs": [
    {
     "name": "stdout",
     "output_type": "stream",
     "text": [
      "1\n"
     ]
    }
   ],
   "source": [
    "def diffLength(str1,str2):\n",
    "    print(len(str1)-len(str2))\n",
    "\n",
    "diffLength('bish','das')\n"
   ]
  },
  {
   "cell_type": "code",
   "execution_count": 6,
   "metadata": {},
   "outputs": [],
   "source": [
    "def calculate(num1,num2,operation):\n",
    "    if operation == \"add\":\n",
    "        print(num1+num2)\n",
    "    elif operation == \"sub\":\n",
    "        print(num1-num2)\n",
    "    elif operation == \"div\":\n",
    "        if num2 == 0:\n",
    "            print(\"The number can't be divided by 0\")\n",
    "        else:\n",
    "            print(num1/num2)\n",
    "    elif operation == \"mul\":\n",
    "        print(num1*num2)\n",
    "    else:\n",
    "        print(\"Please make sure the operator is correct\")"
   ]
  },
  {
   "cell_type": "code",
   "execution_count": 8,
   "metadata": {},
   "outputs": [
    {
     "name": "stdout",
     "output_type": "stream",
     "text": [
      "0.6666666666666666\n"
     ]
    }
   ],
   "source": [
    "calculate(2,3,'div')"
   ]
  },
  {
   "cell_type": "code",
   "execution_count": null,
   "metadata": {},
   "outputs": [],
   "source": []
  }
 ],
 "metadata": {
  "kernelspec": {
   "display_name": "Python 3",
   "language": "python",
   "name": "python3"
  },
  "language_info": {
   "codemirror_mode": {
    "name": "ipython",
    "version": 3
   },
   "file_extension": ".py",
   "mimetype": "text/x-python",
   "name": "python",
   "nbconvert_exporter": "python",
   "pygments_lexer": "ipython3",
   "version": "3.11.0"
  },
  "orig_nbformat": 4
 },
 "nbformat": 4,
 "nbformat_minor": 2
}
