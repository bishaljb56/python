{
 "cells": [
  {
   "cell_type": "code",
   "execution_count": 3,
   "metadata": {},
   "outputs": [
    {
     "data": {
      "text/plain": [
       "['Ankit',\n",
       " 'Shashank',\n",
       " 'Tom',\n",
       " 'Bishal',\n",
       " 'Avi',\n",
       " 'Dinesh',\n",
       " 'shreyas',\n",
       " 'karan',\n",
       " 'Rock',\n",
       " 'Krsna']"
      ]
     },
     "execution_count": 3,
     "metadata": {},
     "output_type": "execute_result"
    }
   ],
   "source": [
    "employees = ['Ankit', 'Shashank', 'Tom', 'Bishal', 'Avi', 'Dinesh', 'shreyas', 'karan', 'Rock', 'Krsna']\n",
    "employees"
   ]
  },
  {
   "cell_type": "code",
   "execution_count": 2,
   "metadata": {},
   "outputs": [
    {
     "data": {
      "text/plain": [
       "(50000, 60000, 75000, 55000, 80000, 40000, 90000, 65000, 45000, 55000)"
      ]
     },
     "execution_count": 2,
     "metadata": {},
     "output_type": "execute_result"
    }
   ],
   "source": [
    "salaries = (50000, 60000, 75000, 55000, 80000, 40000, 90000, 65000, 45000, 55000)\n",
    "salaries\n"
   ]
  },
  {
   "cell_type": "code",
   "execution_count": 6,
   "metadata": {},
   "outputs": [
    {
     "data": {
      "text/plain": [
       "(4.5, 4.2, 5.5, 4.0, 4.9, 6, 4.7, 4.3, 7.9, 9)"
      ]
     },
     "execution_count": 6,
     "metadata": {},
     "output_type": "execute_result"
    }
   ],
   "source": [
    "ratings = (4.5, 4.2, 5.5, 4.0, 4.9, 6, 4.7, 4.3, 7.9, 9)\n",
    "ratings"
   ]
  },
  {
   "cell_type": "code",
   "execution_count": 7,
   "metadata": {},
   "outputs": [],
   "source": [
    "new_salaries = {}"
   ]
  },
  {
   "cell_type": "code",
   "execution_count": 8,
   "metadata": {},
   "outputs": [],
   "source": [
    "for i in range(len(employees)):\n",
    "    rating = ratings[i]\n",
    "    salary = salaries[i]\n",
    "    if rating >= 0 and rating < 3:\n",
    "        new_salary = salary\n",
    "    elif rating >= 3 and rating < 5:\n",
    "        new_salary = salary * 1.03\n",
    "    elif rating >= 5 and rating < 7:\n",
    "        new_salary = salary * 1.05\n",
    "    elif rating >= 7 and rating < 9:\n",
    "        new_salary = salary * 1.07\n",
    "    else:\n",
    "        new_salary = salary * 1.07 + salary * 0.1\n",
    "    new_salaries[employees[i]] = new_salary"
   ]
  },
  {
   "cell_type": "code",
   "execution_count": 9,
   "metadata": {},
   "outputs": [
    {
     "name": "stdout",
     "output_type": "stream",
     "text": [
      "{'Ankit': 51500.0, 'Shashank': 61800.0, 'Tom': 78750.0, 'Bishal': 56650.0, 'Avi': 82400.0, 'Dinesh': 42000.0, 'shreyas': 92700.0, 'karan': 66950.0, 'Rock': 48150.0, 'Krsna': 64350.0}\n"
     ]
    }
   ],
   "source": [
    "print(new_salaries)"
   ]
  },
  {
   "cell_type": "code",
   "execution_count": null,
   "metadata": {},
   "outputs": [],
   "source": []
  }
 ],
 "metadata": {
  "kernelspec": {
   "display_name": "Python 3",
   "language": "python",
   "name": "python3"
  },
  "language_info": {
   "codemirror_mode": {
    "name": "ipython",
    "version": 3
   },
   "file_extension": ".py",
   "mimetype": "text/x-python",
   "name": "python",
   "nbconvert_exporter": "python",
   "pygments_lexer": "ipython3",
   "version": "3.11.0"
  },
  "orig_nbformat": 4
 },
 "nbformat": 4,
 "nbformat_minor": 2
}
