{
 "cells": [
  {
   "cell_type": "code",
   "execution_count": 21,
   "metadata": {},
   "outputs": [],
   "source": [
    "class calculator:\n",
    "    def __init__(self, var1, var2):\n",
    "        self.var1 = var1\n",
    "        self.var2 = var2\n",
    "\n",
    "    def add(self):\n",
    "        try:\n",
    "            return self.var1 + self.var2\n",
    "        except TypeError:\n",
    "            print(\"Please make sure the values are numeric.\")\n",
    "\n",
    "    def Sub(self):\n",
    "        try:\n",
    "            return self.var1 - self.var2\n",
    "        except TypeError:\n",
    "            print(\"Please make sure the values are numeric.\")\n",
    "\n",
    "    def Div(self):\n",
    "        try:\n",
    "            return self.var1 / self.var2\n",
    "        except TypeError:\n",
    "            print(\"Please make sure the values are numeric.\")\n",
    "        except ZeroDivisionError:\n",
    "            print(\"Can't devide by zero\")\n",
    "\n",
    "    def Mul(self):\n",
    "        try:\n",
    "            return self.var1 * self.var2\n",
    "        except TypeError:\n",
    "            print(\"Please make sure the values are numeric.\")\n",
    "\n",
    "    \n",
    "        "
   ]
  },
  {
   "cell_type": "code",
   "execution_count": 22,
   "metadata": {},
   "outputs": [
    {
     "name": "stdout",
     "output_type": "stream",
     "text": [
      "Can't devide by zero\n"
     ]
    }
   ],
   "source": [
    "cal = calculator(56,0)\n",
    "cal.Div()"
   ]
  },
  {
   "cell_type": "code",
   "execution_count": 24,
   "metadata": {},
   "outputs": [
    {
     "data": {
      "text/plain": [
       "0"
      ]
     },
     "execution_count": 24,
     "metadata": {},
     "output_type": "execute_result"
    }
   ],
   "source": [
    "cal.Mul()\n"
   ]
  },
  {
   "cell_type": "code",
   "execution_count": 25,
   "metadata": {},
   "outputs": [
    {
     "data": {
      "text/plain": [
       "56"
      ]
     },
     "execution_count": 25,
     "metadata": {},
     "output_type": "execute_result"
    }
   ],
   "source": [
    "cal.add()"
   ]
  },
  {
   "cell_type": "code",
   "execution_count": null,
   "metadata": {},
   "outputs": [],
   "source": []
  }
 ],
 "metadata": {
  "kernelspec": {
   "display_name": "Python 3",
   "language": "python",
   "name": "python3"
  },
  "language_info": {
   "codemirror_mode": {
    "name": "ipython",
    "version": 3
   },
   "file_extension": ".py",
   "mimetype": "text/x-python",
   "name": "python",
   "nbconvert_exporter": "python",
   "pygments_lexer": "ipython3",
   "version": "3.11.0"
  },
  "orig_nbformat": 4
 },
 "nbformat": 4,
 "nbformat_minor": 2
}
